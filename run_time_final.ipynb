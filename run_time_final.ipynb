{
 "cells": [
  {
   "cell_type": "code",
   "execution_count": 135,
   "metadata": {},
   "outputs": [],
   "source": [
    "import time\n",
    "import random\n",
    "import string\n",
    "import timeit\n",
    "import numpy as np\n",
    "import pandas as pd\n",
    "import matplotlib.pyplot as plt\n",
    "from keyword_replacerV2 import keyword_replacerV2  # Import the function\n",
    "from abbreviation_dict import abbreviation_dict  # Import the dictionary\n",
    "%matplotlib inline"
   ]
  },
  {
   "cell_type": "code",
   "execution_count": 160,
   "metadata": {},
   "outputs": [
    {
     "name": "stderr",
     "output_type": "stream",
     "text": [
      "C:\\Users\\yesme\\AppData\\Local\\Temp/ipykernel_19520/3512680945.py:13: DtypeWarning: Columns (8,9) have mixed types. Specify dtype option on import or set low_memory=False.\n",
      "  reviews5 = pd.read_csv(\"test5.csv\")\n"
     ]
    }
   ],
   "source": [
    "reviews = pd.read_csv(\"test1.csv\")\n",
    "reviews = reviews['content']\n",
    "\n",
    "reviews2 = pd.read_csv(\"test2.csv\")\n",
    "reviews2 = reviews2['content']\n",
    "\n",
    "reviews3 = pd.read_csv(\"test3.csv\")\n",
    "reviews3 = reviews3['content']\n",
    "\n",
    "reviews4 = pd.read_csv(\"test4.csv\")\n",
    "reviews4 = reviews4['content'].astype(str)\n",
    "\n",
    "reviews5 = pd.read_csv(\"test5.csv\")\n",
    "reviews5 = reviews5['content'].astype(str)\n",
    "\n",
    "reviews6 = pd.read_csv(\"test6.csv\")\n",
    "reviews6 = reviews6['content'].astype(str)\n",
    "\n",
    "reviews7 = pd.read_csv(\"test7.csv\")\n",
    "reviews7 = reviews7['content'].astype(str)\n",
    "\n",
    "reviews8 = pd.read_csv(\"test8.csv\")\n",
    "reviews8 = reviews8['content'].astype(str)\n",
    "\n",
    "reviews9 = pd.read_csv(\"test9.csv\")\n",
    "reviews9 = reviews9['content'].astype(str)\n",
    "\n",
    "reviews10 = pd.read_csv(\"test10.csv\")\n",
    "reviews10 = reviews10['content'].astype(str)"
   ]
  },
  {
   "cell_type": "code",
   "execution_count": 162,
   "metadata": {},
   "outputs": [],
   "source": [
    "tests = {'test1': reviews, 'test2': reviews2, 'test3': reviews3, 'test4': reviews4, 'test5': reviews5, 'test6': reviews6, 'test7': reviews7, 'test8': reviews8, 'test9': reviews9, 'test10': reviews10}"
   ]
  },
  {
   "cell_type": "code",
   "execution_count": 163,
   "metadata": {},
   "outputs": [],
   "source": [
    "results = []"
   ]
  },
  {
   "cell_type": "code",
   "execution_count": 164,
   "metadata": {},
   "outputs": [],
   "source": [
    "\n",
    "def process_reviews(reviews):\n",
    "    total_review_length = 0\n",
    "    for review in reviews:\n",
    "        total_review_length += len(review)\n",
    "        keyword_replacerV2(review, abbreviation_dict)\n",
    "    return total_review_length\n",
    "        "
   ]
  },
  {
   "cell_type": "code",
   "execution_count": 165,
   "metadata": {},
   "outputs": [
    {
     "name": "stdout",
     "output_type": "stream",
     "text": [
      "Processing DataFrame: test1\n",
      "Total length of all reviews: 3,825\n",
      "Time taken to process all reviews: 0.78 ms\n",
      "Processing DataFrame: test2\n",
      "Total length of all reviews: 31,307\n",
      "Time taken to process all reviews: 8.34 ms\n",
      "Processing DataFrame: test3\n",
      "Total length of all reviews: 304,375\n",
      "Time taken to process all reviews: 74.04 ms\n",
      "Processing DataFrame: test4\n",
      "Total length of all reviews: 4,920,177\n",
      "Time taken to process all reviews: 1311.97 ms\n",
      "Processing DataFrame: test5\n",
      "Total length of all reviews: 5,733,365\n",
      "Time taken to process all reviews: 1355.24 ms\n",
      "Processing DataFrame: test6\n",
      "Total length of all reviews: 4,341,718\n",
      "Time taken to process all reviews: 1016.72 ms\n",
      "Processing DataFrame: test7\n",
      "Total length of all reviews: 2,602,286\n",
      "Time taken to process all reviews: 577.44 ms\n",
      "Processing DataFrame: test8\n",
      "Total length of all reviews: 977,386\n",
      "Time taken to process all reviews: 260.91 ms\n",
      "Processing DataFrame: test9\n",
      "Total length of all reviews: 1,434,005\n",
      "Time taken to process all reviews: 392.37 ms\n",
      "Processing DataFrame: test10\n",
      "Total length of all reviews: 1,004,751\n",
      "Time taken to process all reviews: 291.68 ms\n",
      "\n",
      "Final Results:\n",
      "test1 - Total length: 3825, Time taken: 0.78 ms\n",
      "test2 - Total length: 31307, Time taken: 8.34 ms\n",
      "test3 - Total length: 304375, Time taken: 74.04 ms\n",
      "test4 - Total length: 4920177, Time taken: 1311.97 ms\n",
      "test5 - Total length: 5733365, Time taken: 1355.24 ms\n",
      "test6 - Total length: 4341718, Time taken: 1016.72 ms\n",
      "test7 - Total length: 2602286, Time taken: 577.44 ms\n",
      "test8 - Total length: 977386, Time taken: 260.91 ms\n",
      "test9 - Total length: 1434005, Time taken: 392.37 ms\n",
      "test10 - Total length: 1004751, Time taken: 291.68 ms\n"
     ]
    }
   ],
   "source": [
    "for key, reviews in tests.items():\n",
    "    print(f\"Processing DataFrame: {key}\")\n",
    "\n",
    "    # Get the total length of all reviews\n",
    "    total_length = process_reviews(reviews)\n",
    "\n",
    "    # Time the processing of the current DataFrame\n",
    "    elapsed_time_ms = timeit.timeit(lambda: process_reviews(reviews), number=1) * 1000\n",
    "\n",
    "    # Append the total length and time taken to the results list\n",
    "    results.append({'name': key, 'total_length': total_length, 'time_taken_ms': elapsed_time_ms})\n",
    "\n",
    "    # Print the results\n",
    "    print(f\"Total length of all reviews: {total_length:,}\")\n",
    "    print(f\"Time taken to process all reviews: {elapsed_time_ms:.2f} ms\")\n",
    "\n",
    "# Print the final results list\n",
    "print(\"\\nFinal Results:\")\n",
    "for result in results:\n",
    "    print(\n",
    "        f\"{result['name']} - Total length: {result['total_length']}, Time taken: {result['time_taken_ms']:.2f} ms\"\n",
    "    )"
   ]
  },
  {
   "cell_type": "code",
   "execution_count": 168,
   "metadata": {},
   "outputs": [],
   "source": [
    "results = sorted(results, key=lambda x: x['time_taken_ms'], reverse=True)"
   ]
  },
  {
   "cell_type": "code",
   "execution_count": 169,
   "metadata": {},
   "outputs": [],
   "source": [
    "total_lengths = [result['total_length'] for result in results]\n",
    "runtimes = [result['time_taken_ms'] for result in results]"
   ]
  },
  {
   "cell_type": "code",
   "execution_count": 170,
   "metadata": {},
   "outputs": [],
   "source": [
    "plt.rcParams['axes.facecolor'] = 'white'\n",
    "plt.rcParams['grid.color'] = 'gray'"
   ]
  },
  {
   "cell_type": "code",
   "execution_count": 171,
   "metadata": {},
   "outputs": [
    {
     "data": {
      "image/png": "[encoded data removed]",
      "text/plain": [
       "<Figure size 432x288 with 1 Axes>"
      ]
     },
     "metadata": {
      "needs_background": "light"
     },
     "output_type": "display_data"
    }
   ],
   "source": [
    "plt.plot(total_lengths, runtimes, '-o')\n",
    "plt.ylabel('Runtime in miliseconds')\n",
    "plt.xlabel('Input size')\n",
    "plt.title('Runtime of the keyword extractor')\n",
    "plt.grid(True)"
   ]
  },
  {
   "cell_type": "code",
   "execution_count": null,
   "metadata": {},
   "outputs": [],
   "source": []
  }
 ],
 "metadata": {
  "kernelspec": {
   "display_name": "Python 3",
   "language": "python",
   "name": "python3"
  },
  "language_info": {
   "codemirror_mode": {
    "name": "ipython",
    "version": 3
   },
   "file_extension": ".py",
   "mimetype": "text/x-python",
   "name": "python",
   "nbconvert_exporter": "python",
   "pygments_lexer": "ipython3",
   "version": "3.10.0"
  },
  "orig_nbformat": 4
 },
 "nbformat": 4,
 "nbformat_minor": 2
}
